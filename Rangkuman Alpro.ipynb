{
 "cells": [
  {
   "cell_type": "markdown",
   "id": "c3614ec8-d5d4-4b17-80ce-c969265a32ea",
   "metadata": {},
   "source": [
    "# ALGORITMA PEMROGRAMAN"
   ]
  },
  {
   "cell_type": "raw",
   "id": "58509ba4-e99b-4389-bbff-466f563c8fc9",
   "metadata": {},
   "source": [
    "Algoritma adalah Urutan Langkah Langkah yang disusun secara logis dan sistematis untuk memecahkan suatu masalah. Algoritma haruslah logis atau benar, artinya algoritma harus memberikan keluaran yang dikehendaki dari sejumlah masukan yang diberikan."
   ]
  },
  {
   "cell_type": "markdown",
   "id": "4e561018-b2b0-45cc-b6a8-99c0ba1c6955",
   "metadata": {},
   "source": [
    "#### INPUT>PROSES>OUTPUT"
   ]
  },
  {
   "cell_type": "markdown",
   "id": "c7595646-7a43-4de6-8d43-59db8993f9d3",
   "metadata": {},
   "source": [
    "### PENULISAN ALGORITMA"
   ]
  },
  {
   "cell_type": "raw",
   "id": "5caa319a-a6e1-4ff8-8ddc-edd607d2a302",
   "metadata": {},
   "source": [
    "1. Deskriptif\n",
    "2. Flowchart\n",
    "3. Pseudocode"
   ]
  },
  {
   "cell_type": "markdown",
   "id": "d5d1b17e-d705-4142-930d-be15bb594e8c",
   "metadata": {},
   "source": [
    "## Tipe Data (Variabel)"
   ]
  },
  {
   "cell_type": "raw",
   "id": "a6426ac5-372e-4f59-b448-28ffcab0c02c",
   "metadata": {},
   "source": [
    "Variabel adalah media penyimpanan data yang nilainya dapat berubah selama proses eksekusi."
   ]
  },
  {
   "cell_type": "markdown",
   "id": "848f186f-4497-476b-a7df-08511c8e6af4",
   "metadata": {},
   "source": [
    "#### Namavariabel = isivariabel"
   ]
  },
  {
   "cell_type": "markdown",
   "id": "642be2bf-e3ad-476f-9f5c-a75bd1ad2830",
   "metadata": {},
   "source": [
    "### Jenis Tipe Data"
   ]
  },
  {
   "cell_type": "raw",
   "id": "a3504dc7-ecfa-4e3c-81ee-8363e18df653",
   "metadata": {},
   "source": [
    "1.int (integer): Bilangan bulat, contoh: 5, -10.\n",
    "\n",
    "2.float: Bilangan desimal, contoh: 3.14, -0.5.\n",
    "\n",
    "3.str (string): Teks, contoh: \"Halo\", 'Python'\n",
    "\n",
    "4.bool: Logika, nilai: True atau False."
   ]
  },
  {
   "cell_type": "markdown",
   "id": "a733e457-2031-4ad7-a06f-806ea595a985",
   "metadata": {},
   "source": [
    "##### Cara mengecek type data"
   ]
  },
  {
   "cell_type": "code",
   "execution_count": 3,
   "id": "6628b915-1deb-4af3-a35f-d6b01330001a",
   "metadata": {},
   "outputs": [
    {
     "name": "stdout",
     "output_type": "stream",
     "text": [
      "<class 'int'>\n",
      "<class 'float'>\n",
      "<class 'str'>\n",
      "<class 'bool'>\n"
     ]
    }
   ],
   "source": [
    "x = 4\n",
    "print(type(x))\n",
    "y = 4.4\n",
    "print(type(y))\n",
    "z = \"hafshah\"\n",
    "print(type(z))\n",
    "w = 5>3\n",
    "print(type(w))"
   ]
  },
  {
   "cell_type": "markdown",
   "id": "4397fabe-bf3d-43e0-aeef-c68c4070186e",
   "metadata": {},
   "source": [
    "### CARA PRINT"
   ]
  },
  {
   "cell_type": "code",
   "execution_count": 4,
   "id": "c6bc30c0-2518-4da4-8fb5-a6e20ea0ffc8",
   "metadata": {},
   "outputs": [
    {
     "name": "stdout",
     "output_type": "stream",
     "text": [
      "Hallo\n",
      "juga hai \n",
      "\n",
      "\n",
      "\n"
     ]
    }
   ],
   "source": [
    "#PRINT SEPERTI BIASA\n",
    "print(\"Hallo\")\n",
    "\n",
    "#PRINT TANPA ENTER\n",
    "print(\"juga\",end=\" \")\n",
    "\n",
    "#PRINT DENGAN ENTER\n",
    "print(\"hai\",\"\\n\")\n",
    "\n",
    "#ENTER\n",
    "print(\"\\n\")"
   ]
  },
  {
   "cell_type": "markdown",
   "id": "eda7263b-a577-4fb2-854a-c6cd1dd96c49",
   "metadata": {},
   "source": [
    "## OPERATOR ARITMATIKA"
   ]
  },
  {
   "cell_type": "raw",
   "id": "2fe40ba4-3f7d-4e6a-a3ef-72fba59f66b5",
   "metadata": {},
   "source": [
    "Penjumlahan: +, contoh: 5 + 3.\n",
    "Pengurangan: -, contoh: 8 - 2.\n",
    "Perkalian: *, contoh: 4 * 3.\n",
    "Pembagian: /, contoh: 7 / 2.\n",
    "Sisa bagi: %, contoh: 7 % 3.\n",
    "Pangkat: **, contoh: 2 ** 3."
   ]
  },
  {
   "cell_type": "markdown",
   "id": "fbc918a7-d744-4acb-abee-ff0c17b53117",
   "metadata": {},
   "source": [
    "## OPERATOR PERBANDINGAN"
   ]
  },
  {
   "cell_type": "raw",
   "id": "b92cf83f-1db5-4d76-b477-48d775d6a206",
   "metadata": {},
   "source": [
    "Sama dengan: ==.\n",
    "Tidak sama dengan: !=.\n",
    "Lebih besar: >.\n",
    "Lebih kecil: <.\n",
    "Lebih besar/sama: >=.\n",
    "Lebih kecil/sama: <=."
   ]
  },
  {
   "cell_type": "markdown",
   "id": "b00a6158-08ef-4cc1-8812-2a9acf2c9612",
   "metadata": {},
   "source": [
    "## OPERATOR PENUGASAN"
   ]
  },
  {
   "cell_type": "raw",
   "id": "e4db9768-f139-4e3a-aac8-12922748e17f",
   "metadata": {},
   "source": [
    "=     x = 5\t    Menugaskan nilai 5 ke variabel x.\n",
    "+=\t  x += 3\tSama dengan x = x + 3.\n",
    "-=\t  x -= 2\tSama dengan x = x - 2. \n",
    "*=\t  x *= 4\tSama dengan x = x * 4. \n",
    "/=\t  x /= 2\tSama dengan x = x / 2. \n",
    "//=\t  x //= 3\tSama dengan x = x // 3. \n",
    "%=\t  x %= 5\tSama dengan x = x % 5. \n",
    "**=\t  x **= 2\tSama dengan x = x ** 2. "
   ]
  },
  {
   "cell_type": "markdown",
   "id": "9d75dd73-6092-4756-8d64-f78cf08d9bf5",
   "metadata": {},
   "source": [
    "## OPERATOR LOGIKA"
   ]
  },
  {
   "cell_type": "raw",
   "id": "b78bcb52-ebd6-435d-8111-2112d42586a2",
   "metadata": {},
   "source": [
    "and: Benar jika semua kondisi benar.\n",
    "or: Benar jika salah satu kondisi benar.\n",
    "not: Membalik nilai logika."
   ]
  },
  {
   "cell_type": "markdown",
   "id": "1696392d-540e-46db-8484-e02af30ac03c",
   "metadata": {},
   "source": [
    "### MEMINTA INPUT PENGGUNA"
   ]
  },
  {
   "cell_type": "code",
   "execution_count": 6,
   "id": "fe4c0943-cd59-4c59-a184-e3a1bfa2af4d",
   "metadata": {},
   "outputs": [
    {
     "name": "stdin",
     "output_type": "stream",
     "text": [
      "masukkan nama hafshah\n",
      "masukkan umur 18\n"
     ]
    },
    {
     "name": "stdout",
     "output_type": "stream",
     "text": [
      "nama saya hafshah dan umur saya 18\n"
     ]
    }
   ],
   "source": [
    "nama = input(\"masukkan nama\")\n",
    "umur = input(\"masukkan umur\")\n",
    "\n",
    "\n",
    "print(\"nama saya\", nama, \"dan umur saya\", umur)"
   ]
  },
  {
   "cell_type": "markdown",
   "id": "a3f70f9b-8d0e-41dd-8a56-934052819dec",
   "metadata": {},
   "source": [
    "## IMPORT"
   ]
  },
  {
   "cell_type": "raw",
   "id": "4b7e910c-935e-4f36-852f-d86d5f0d161e",
   "metadata": {},
   "source": [
    "import digunakan untuk mengakses modul atau pustaka eksternal yang berisi fungsi, kelas, atau variabel yang bisa digunakan dalam program Anda. Modul bisa bawaan Python atau buatan pengguna."
   ]
  },
  {
   "cell_type": "code",
   "execution_count": null,
   "id": "42641292-4ecc-401f-adc9-078e377ad47a",
   "metadata": {},
   "outputs": [],
   "source": [
    "# Menggunakan fungsi dalam modul math\n",
    "import math\n",
    "\n",
    "# Menggunakan fungsi akar dari modul math\n",
    "from math import sqrt\n"
   ]
  },
  {
   "cell_type": "markdown",
   "id": "f114081f-bd6d-49e3-93e8-9235f906ac8c",
   "metadata": {},
   "source": [
    "## PERCABANGAN"
   ]
  },
  {
   "cell_type": "markdown",
   "id": "acc25c72-adce-44b1-858b-dbe19a9cef38",
   "metadata": {},
   "source": [
    "#### 1. PERCABANGAN IF-ELSE"
   ]
  },
  {
   "cell_type": "code",
   "execution_count": null,
   "id": "1c44fccc-697e-4706-a510-27d4d80b955f",
   "metadata": {},
   "outputs": [],
   "source": [
    "if :\n",
    "    # kode yang dijalankan jika kondisi benar\n",
    "else:\n",
    "    # kode yang dijalankan jika kondisi salah"
   ]
  },
  {
   "cell_type": "code",
   "execution_count": 1,
   "id": "bd8c055b-3e8c-4da4-904e-077eb7554c9f",
   "metadata": {},
   "outputs": [
    {
     "name": "stdout",
     "output_type": "stream",
     "text": [
      "Maaf, Anda tidak lulus.\n"
     ]
    }
   ],
   "source": [
    "nilai = 65\n",
    "if nilai >= 75:\n",
    "    print(\"Selamat, Anda lulus!\")\n",
    "else:\n",
    "    print(\"Maaf, Anda tidak lulus.\")"
   ]
  },
  {
   "cell_type": "markdown",
   "id": "1a3fbe2f-2151-4533-9dc9-a12fa43ff801",
   "metadata": {},
   "source": [
    "#### 2. PERCABANGAN IF-ELIF-ELSE"
   ]
  },
  {
   "cell_type": "code",
   "execution_count": null,
   "id": "ff1b86c2-ea97-40be-bd7f-1896c8d0ed88",
   "metadata": {},
   "outputs": [],
   "source": [
    "if kondisi1:\n",
    "    # kode jika kondisi1 benar\n",
    "elif kondisi2:\n",
    "    # kode jika kondisi2 benar\n",
    "else:\n",
    "    # kode jika semua kondisi salah"
   ]
  },
  {
   "cell_type": "code",
   "execution_count": 2,
   "id": "cc57108f-8126-41ce-bf65-de550898fd5d",
   "metadata": {},
   "outputs": [
    {
     "name": "stdout",
     "output_type": "stream",
     "text": [
      "Nilai B\n"
     ]
    }
   ],
   "source": [
    "nilai = 85\n",
    "if nilai >= 90:\n",
    "    print(\"Nilai A\")\n",
    "elif nilai >= 75:\n",
    "    print(\"Nilai B\")\n",
    "else:\n",
    "    print(\"Nilai C\")"
   ]
  },
  {
   "cell_type": "markdown",
   "id": "e65fd02c-b9a9-4638-a1a0-138d098af50e",
   "metadata": {},
   "source": [
    "#### 3. NASTED IF(PERCABANGAN BERSARANG)"
   ]
  },
  {
   "cell_type": "code",
   "execution_count": null,
   "id": "82213a1c-e905-4353-bd22-008d84376b1b",
   "metadata": {},
   "outputs": [],
   "source": [
    "if kondisi1:\n",
    "    if kondisi2:\n",
    "        # kode jika kedua kondisi benar"
   ]
  },
  {
   "cell_type": "code",
   "execution_count": 3,
   "id": "f0a6eb1b-e67b-43c0-bc69-aa9be5266476",
   "metadata": {},
   "outputs": [
    {
     "name": "stdout",
     "output_type": "stream",
     "text": [
      "Anda boleh membuat SIM\n"
     ]
    }
   ],
   "source": [
    "umur = 18\n",
    "memiliki_ktp = True\n",
    "\n",
    "if umur >= 17:\n",
    "    if memiliki_ktp:\n",
    "        print(\"Anda boleh membuat SIM\")\n",
    "    else:\n",
    "        print(\"Anda belum memiliki KTP\")\n",
    "else:\n",
    "    print(\"Anda belum cukup umur\")"
   ]
  },
  {
   "cell_type": "markdown",
   "id": "77bfaa1c-36b4-4868-9ad0-4fb523a25b4f",
   "metadata": {},
   "source": [
    "## PERULANGAN (LOOPING)"
   ]
  },
  {
   "cell_type": "markdown",
   "id": "dc5e5675-1e3d-4629-b14f-73ddeb0452c1",
   "metadata": {},
   "source": [
    "### 1. PERULANGAN FOR"
   ]
  },
  {
   "cell_type": "raw",
   "id": "677ebc43-640e-4fc1-a20d-775c5fb49c47",
   "metadata": {},
   "source": [
    "Perulangan adalah proses menjalankan suatu blok kode secara berulang berdasarkan kondisi tertentu. Dalam pemrograman, perulangan digunakan untuk menghemat kode dan menjalankan tugas yang berulang.\n",
    "Jenis Perulangan"
   ]
  },
  {
   "cell_type": "raw",
   "id": "40b7f4aa-88a4-4f20-975a-2d0a25359b71",
   "metadata": {},
   "source": [
    "for Loop\n",
    "Perulangan yang digunakan untuk mengiterasi elemen dalam koleksi (seperti list, tuple, string, atau range).\n",
    "for disebut counted loop (perulangan yang terhitung).\n",
    "Perulangan for biasanya digunakan untuk mengulangi kode yang sudah diketahui banyak perulangannya."
   ]
  },
  {
   "cell_type": "raw",
   "id": "1911372f-e09d-4d31-8b76-9323d1d12010",
   "metadata": {},
   "source": [
    "for variabel in range(start, stop, step):\n",
    "    # kode yang diulang"
   ]
  },
  {
   "cell_type": "code",
   "execution_count": null,
   "id": "87ebf4d3-b4d9-4cfd-9dd0-1efe26582a41",
   "metadata": {},
   "outputs": [],
   "source": [
    "#MEMBACA ELEMEN DALAM LIST\n",
    "fruits = [\"apple\", \"banana\", \"cherry\"]\n",
    "for i in range(3):\n",
    "    print(fruits[i])"
   ]
  },
  {
   "cell_type": "code",
   "execution_count": 2,
   "id": "795d7dd0-929c-42cf-bdda-2192185bcf60",
   "metadata": {},
   "outputs": [
    {
     "name": "stdout",
     "output_type": "stream",
     "text": [
      "1\n",
      "2\n",
      "3\n",
      "4\n",
      "5\n"
     ]
    }
   ],
   "source": [
    "for i in range(1, 6):\n",
    "    print(i)"
   ]
  },
  {
   "cell_type": "markdown",
   "id": "fadd32d2-c20a-4e09-a65d-f57115314ff7",
   "metadata": {},
   "source": [
    "#### PERULANGAN BERSARANG"
   ]
  },
  {
   "cell_type": "code",
   "execution_count": 1,
   "id": "d0d5265f-963e-449a-a45e-feafc7e0f2eb",
   "metadata": {},
   "outputs": [
    {
     "name": "stdout",
     "output_type": "stream",
     "text": [
      "i = 1, j = 1\n",
      "i = 1, j = 2\n",
      "i = 2, j = 1\n",
      "i = 2, j = 2\n",
      "i = 3, j = 1\n",
      "i = 3, j = 2\n"
     ]
    }
   ],
   "source": [
    "for i in range(1, 4):\n",
    "    for j in range(1, 3):\n",
    "        print(f\"i = {i}, j = {j}\")"
   ]
  },
  {
   "cell_type": "markdown",
   "id": "5ad3dacb-2853-42ae-908c-bb4be848524a",
   "metadata": {},
   "source": [
    "#### PERULANGAN TAK HINGGA"
   ]
  },
  {
   "cell_type": "code",
   "execution_count": null,
   "id": "974643d3-b865-4810-bbc4-d5db78eac444",
   "metadata": {},
   "outputs": [],
   "source": [
    "while (1 + 2 == 3):\n",
    "    print('Halo dunia!')"
   ]
  },
  {
   "cell_type": "markdown",
   "id": "38704c6f-2422-4309-b1af-d1120d076233",
   "metadata": {},
   "source": [
    "#### PERULANGAN BERDASARKAN KONDISI"
   ]
  },
  {
   "cell_type": "code",
   "execution_count": null,
   "id": "68f0afb0-34fd-46b0-99d0-b2e26e84047a",
   "metadata": {},
   "outputs": [],
   "source": [
    "i = 1\n",
    "while i <= 5:\n",
    "    print(f\"Angka ke-{i}\")\n",
    "    i += 1"
   ]
  },
  {
   "cell_type": "code",
   "execution_count": null,
   "id": "26fb6394-a91c-454b-b5d9-89aa91d931da",
   "metadata": {},
   "outputs": [],
   "source": [
    "i = 1\n",
    "\n",
    "while i <= 5:\n",
    "    print(i)\n",
    "    i += 1"
   ]
  },
  {
   "cell_type": "markdown",
   "id": "503b028c-1bd0-4518-998c-d6f9aaed14e6",
   "metadata": {},
   "source": [
    "#### BREAK"
   ]
  },
  {
   "cell_type": "raw",
   "id": "77c1bae9-9ce0-4bf5-9644-18fe831cb222",
   "metadata": {},
   "source": [
    "break : Menghentikan perulangan sepenuhnya."
   ]
  },
  {
   "cell_type": "code",
   "execution_count": null,
   "id": "c79e2e8c-d257-44d6-bce0-d329660d9839",
   "metadata": {},
   "outputs": [],
   "source": [
    "for i in range(1, 10):\n",
    "    if i == 5:\n",
    "        break\n",
    "    print(i)"
   ]
  },
  {
   "cell_type": "markdown",
   "id": "3ec8d0b7-3a18-4e79-ba6a-b7a094174ab1",
   "metadata": {},
   "source": [
    "#### CONTINUE"
   ]
  },
  {
   "cell_type": "raw",
   "id": "c14652e2-cf9e-447b-ba3d-c97f90544f44",
   "metadata": {},
   "source": [
    "continue : Melewati iterasi saat ini dan langsung melanjutkan ke iterasi berikutnya."
   ]
  },
  {
   "cell_type": "code",
   "execution_count": null,
   "id": "74a5893e-2e75-46d9-8fa7-a4b5ec309734",
   "metadata": {},
   "outputs": [],
   "source": [
    "for i in range(1, 6):\n",
    "    if i == 3:\n",
    "        continue\n",
    "    print(i)"
   ]
  }
 ],
 "metadata": {
  "kernelspec": {
   "display_name": "Python 3 (ipykernel)",
   "language": "python",
   "name": "python3"
  },
  "language_info": {
   "codemirror_mode": {
    "name": "ipython",
    "version": 3
   },
   "file_extension": ".py",
   "mimetype": "text/x-python",
   "name": "python",
   "nbconvert_exporter": "python",
   "pygments_lexer": "ipython3",
   "version": "3.12.4"
  }
 },
 "nbformat": 4,
 "nbformat_minor": 5
}
